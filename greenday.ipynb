{
  "nbformat": 4,
  "nbformat_minor": 0,
  "metadata": {
    "colab": {
      "name": "greenday.ipynb",
      "provenance": [],
      "toc_visible": true,
      "authorship_tag": "ABX9TyNsYZHqq+bA9imZEL4skO9z",
      "include_colab_link": true
    },
    "kernelspec": {
      "name": "python3",
      "display_name": "Python 3"
    },
    "language_info": {
      "name": "python"
    }
  },
  "cells": [
    {
      "cell_type": "markdown",
      "metadata": {
        "id": "view-in-github",
        "colab_type": "text"
      },
      "source": [
        "<a href=\"https://colab.research.google.com/github/Yunzez/greenday/blob/main/greenday.ipynb\" target=\"_parent\"><img src=\"https://colab.research.google.com/assets/colab-badge.svg\" alt=\"Open In Colab\"/></a>"
      ]
    },
    {
      "cell_type": "code",
      "execution_count": 1,
      "metadata": {
        "colab": {
          "base_uri": "https://localhost:8080/"
        },
        "id": "EjXqa8cpT1yS",
        "outputId": "7a1cb066-2aab-49ab-d33a-b3e61c14b487"
      },
      "outputs": [
        {
          "output_type": "stream",
          "name": "stdout",
          "text": [
            "testing\n",
            "testing in github\n"
          ]
        }
      ],
      "source": [
        "print('testing')\n",
        "print('testing in github')"
      ]
    }
  ]
}